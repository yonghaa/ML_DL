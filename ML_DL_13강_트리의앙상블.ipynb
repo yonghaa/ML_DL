{
 "cells": [
  {
   "cell_type": "markdown",
   "metadata": {},
   "source": [
    "# 랜덤 포레스트 훈련\n",
    "- 랜덤 포레스트(Random Forest)는 앙상블 학습의 대표. 결정 트리를 랜덤하게 만들어 결정 트리(나무)의 숲을 만듦. 그리고 각 결정 트리의 예측을 사용해 최종 예측을 만듦"
   ]
  },
  {
   "cell_type": "code",
   "execution_count": 1,
   "metadata": {},
   "outputs": [],
   "source": [
    "import numpy as np\n",
    "import pandas as pd\n",
    "from sklearn.model_selection import train_test_split\n",
    "wine = pd.read_csv('https://bit.ly/wine_csv_data')\n",
    "data = wine[['alcohol', 'sugar', 'pH']].to_numpy()\n",
    "target = wine['class'].to_numpy()\n",
    "train_input, test_input, train_target, test_target = train_test_split(data, target, test_size=0.2, random_state=42)"
   ]
  },
  {
   "cell_type": "code",
   "execution_count": 2,
   "metadata": {},
   "outputs": [],
   "source": [
    "from sklearn.model_selection import cross_validate\n",
    "from sklearn.ensemble import RandomForestClassifier"
   ]
  },
  {
   "cell_type": "code",
   "execution_count": 3,
   "metadata": {},
   "outputs": [
    {
     "name": "stdout",
     "output_type": "stream",
     "text": [
      "0.9973541965122431 0.8905151032797809\n"
     ]
    }
   ],
   "source": [
    "rf = RandomForestClassifier(n_jobs=-1, random_state=42)\n",
    "scores = cross_validate(rf, train_input, train_target, return_train_score=True, n_jobs=-1)\n",
    "print(np.mean(scores['train_score']), np.mean(scores['test_score']))"
   ]
  },
  {
   "cell_type": "code",
   "execution_count": 6,
   "metadata": {},
   "outputs": [
    {
     "name": "stdout",
     "output_type": "stream",
     "text": [
      "[0.23167441 0.50039841 0.26792718]\n"
     ]
    }
   ],
   "source": [
    "rf.fit(train_input, train_target)\n",
    "print(rf.feature_importances_)"
   ]
  },
  {
   "cell_type": "code",
   "execution_count": 8,
   "metadata": {},
   "outputs": [
    {
     "name": "stdout",
     "output_type": "stream",
     "text": [
      "0.8934000384837406\n"
     ]
    }
   ],
   "source": [
    "rf = RandomForestClassifier(oob_score=True, n_jobs=-1, random_state=42)\n",
    "rf.fit(train_input, train_target)\n",
    "print(rf.oob_score_)"
   ]
  },
  {
   "cell_type": "markdown",
   "metadata": {},
   "source": [
    "# 엑스트라 트리\n",
    "- 엑스트라 트리(Extra Trees)는 랜덤 포레스트와 매우 비슷. 기본적으로 100개의 결정트리 훈련. 랜덤 포레스트와 동일하게 결정 트리가 제공하는 대부분의 매개변수를 지원. 전체 특성 중 일부 특성을 랜덤하게 선택하여 노드를 분할하는데 사용.\n",
    "- 랜덤 포레스트와 엑스트라 트리의 차이점은 부트스트랩 샘플을 사용하지 않는다는 점. 즉각 결정 트리를 만들 때 전체 훈련 세트를 사용. 노드를 분할할 때 가장 좋은 분할을 찾는 것이 아니라 무작위로 분할."
   ]
  },
  {
   "cell_type": "code",
   "execution_count": 9,
   "metadata": {},
   "outputs": [],
   "source": [
    "from sklearn.ensemble import ExtraTreesClassifier"
   ]
  },
  {
   "cell_type": "code",
   "execution_count": 10,
   "metadata": {},
   "outputs": [],
   "source": [
    "et = ExtraTreesClassifier(n_jobs=-1, random_state=42)\n",
    "scores = cross_validate(et, train_input, train_target, return_train_score=True, n_jobs=-1)"
   ]
  },
  {
   "cell_type": "code",
   "execution_count": 11,
   "metadata": {},
   "outputs": [
    {
     "name": "stdout",
     "output_type": "stream",
     "text": [
      "0.9974503966084433 0.8887848893166506\n"
     ]
    }
   ],
   "source": [
    "print(np.mean(scores['train_score']), np.mean(scores['test_score']))"
   ]
  },
  {
   "cell_type": "code",
   "execution_count": 12,
   "metadata": {},
   "outputs": [
    {
     "name": "stdout",
     "output_type": "stream",
     "text": [
      "[0.20183568 0.52242907 0.27573525]\n"
     ]
    }
   ],
   "source": [
    "et.fit(train_input, train_target)\n",
    "print(et.feature_importances_)"
   ]
  },
  {
   "cell_type": "markdown",
   "metadata": {},
   "source": [
    "# 그레이디언트 부스팅\n",
    "- 그레이디언트 부스팅(gradient boosting)은 깊이가 얕은 결정 트리를 사용하여 이전 트리의 오차를 보완하는 방식으로 앙상블.\n",
    "- 사이킷런의 GradientBoostingClassifier는 기본적으로 깊이가 3인 결정 트리를 100개 사용. 깊이가 얕은 결정 트리를 사용하기 때문에 과대적합에 강하고 일반적으로 높은 일반화 성능을 기대할 수 있습니다."
   ]
  },
  {
   "cell_type": "code",
   "execution_count": 13,
   "metadata": {},
   "outputs": [],
   "source": [
    "from sklearn.ensemble import GradientBoostingClassifier"
   ]
  },
  {
   "cell_type": "code",
   "execution_count": 14,
   "metadata": {},
   "outputs": [
    {
     "name": "stdout",
     "output_type": "stream",
     "text": [
      "0.8881086892152563 0.8720430147331015\n"
     ]
    }
   ],
   "source": [
    "gb = GradientBoostingClassifier(random_state=42)\n",
    "scores = cross_validate(gb, train_input, train_target, return_train_score=True, n_jobs=-1)\n",
    "print(np.mean(scores['train_score']), np.mean(scores['test_score']))"
   ]
  },
  {
   "cell_type": "code",
   "execution_count": 15,
   "metadata": {},
   "outputs": [
    {
     "name": "stdout",
     "output_type": "stream",
     "text": [
      "0.9464595437171814 0.8780082549788999\n"
     ]
    }
   ],
   "source": [
    "gb = GradientBoostingClassifier(n_estimators=500, learning_rate=0.2, random_state=42)\n",
    "scores = cross_validate(gb, train_input, train_target, return_train_score=True, n_jobs=-1)\n",
    "print(np.mean(scores['train_score']), np.mean(scores['test_score']))"
   ]
  },
  {
   "cell_type": "code",
   "execution_count": 16,
   "metadata": {},
   "outputs": [
    {
     "name": "stdout",
     "output_type": "stream",
     "text": [
      "[0.15872278 0.68011572 0.16116151]\n"
     ]
    }
   ],
   "source": [
    "gb.fit(train_input, train_target)\n",
    "print(gb.feature_importances_)"
   ]
  },
  {
   "cell_type": "markdown",
   "metadata": {},
   "source": [
    "# 히스토그램 기반 그레이디언트 부스팅\n",
    "- 히스토그램 기반 그레이디언트 부스팅(Histogram-based Gradient Boosting)은 정형 데이터를 다루는 머신러닝 알고리즘 중에 가장 인기가 높은 알고리즘.\n",
    "- 히스토그램 기반 ㅓ그레이디언트 부스팅은 256개의 구간 중에서 하나를 떼어 놓고 누락된 값을 위해서 사용. 따라서 전처리 필요 X"
   ]
  },
  {
   "cell_type": "code",
   "execution_count": 17,
   "metadata": {},
   "outputs": [
    {
     "name": "stderr",
     "output_type": "stream",
     "text": [
      "c:\\Users\\user\\anaconda3\\Lib\\site-packages\\sklearn\\experimental\\enable_hist_gradient_boosting.py:15: UserWarning: Since version 1.0, it is not needed to import enable_hist_gradient_boosting anymore. HistGradientBoostingClassifier and HistGradientBoostingRegressor are now stable and can be normally imported from sklearn.ensemble.\n",
      "  warnings.warn(\n"
     ]
    }
   ],
   "source": [
    "from sklearn.experimental import enable_hist_gradient_boosting\n",
    "from sklearn.ensemble import HistGradientBoostingClassifier"
   ]
  },
  {
   "cell_type": "code",
   "execution_count": 20,
   "metadata": {},
   "outputs": [
    {
     "name": "stdout",
     "output_type": "stream",
     "text": [
      "0.9321723946453317 0.8801241948619236\n"
     ]
    }
   ],
   "source": [
    "hgb = HistGradientBoostingClassifier(random_state=42)\n",
    "scores = cross_validate(hgb, train_input, train_target, return_train_score=True, n_jobs=-1)\n",
    "print(np.mean(scores['train_score']), np.mean(scores['test_score']))"
   ]
  },
  {
   "cell_type": "markdown",
   "metadata": {},
   "source": [
    "# Permutation Importance(치환 중요도)\n",
    "- 특성을 하나씩 랜덤하게 섞어서 모델의 성능이 변화하는지를 관찰하여 어떤 특성이 중요한지를 계산.\n",
    "- 훈련 세트뿐만 아니라 테스트 세트에도 적용하라 수 있고 사이킷런에서 제공하는 추정기 모델에 모두 사용할 수 있다."
   ]
  },
  {
   "cell_type": "code",
   "execution_count": 23,
   "metadata": {},
   "outputs": [
    {
     "name": "stdout",
     "output_type": "stream",
     "text": [
      "[0.08876275 0.23438522 0.08027708]\n"
     ]
    }
   ],
   "source": [
    "from sklearn.inspection import permutation_importance\n",
    "hgb.fit(train_input, train_target)\n",
    "result = permutation_importance(hgb, train_input, train_target, n_repeats=10, random_state=42, n_jobs=-1)\n",
    "print(result.importances_mean)\n"
   ]
  },
  {
   "cell_type": "code",
   "execution_count": 24,
   "metadata": {},
   "outputs": [
    {
     "name": "stdout",
     "output_type": "stream",
     "text": [
      "[0.05969231 0.20238462 0.049     ]\n"
     ]
    }
   ],
   "source": [
    "result = permutation_importance(hgb, test_input, test_target, n_repeats=10, random_state=42, n_jobs=-1)\n",
    "print(result.importances_mean)"
   ]
  },
  {
   "cell_type": "code",
   "execution_count": 25,
   "metadata": {},
   "outputs": [
    {
     "data": {
      "text/plain": [
       "0.8723076923076923"
      ]
     },
     "execution_count": 25,
     "metadata": {},
     "output_type": "execute_result"
    }
   ],
   "source": [
    "hgb.score(test_input, test_target)"
   ]
  },
  {
   "cell_type": "markdown",
   "metadata": {},
   "source": [
    "# XGBoost vs LightGBM"
   ]
  },
  {
   "cell_type": "code",
   "execution_count": 28,
   "metadata": {},
   "outputs": [
    {
     "name": "stdout",
     "output_type": "stream",
     "text": [
      "Collecting xgboost\n",
      "  Downloading xgboost-2.0.3-py3-none-win_amd64.whl.metadata (2.0 kB)\n",
      "Requirement already satisfied: numpy in c:\\users\\user\\anaconda3\\lib\\site-packages (from xgboost) (1.24.3)\n",
      "Requirement already satisfied: scipy in c:\\users\\user\\anaconda3\\lib\\site-packages (from xgboost) (1.10.1)\n",
      "Downloading xgboost-2.0.3-py3-none-win_amd64.whl (99.8 MB)\n",
      "   ---------------------------------------- 0.0/99.8 MB ? eta -:--:--\n",
      "   ---------------------------------------- 0.1/99.8 MB 1.7 MB/s eta 0:01:01\n",
      "   ---------------------------------------- 0.2/99.8 MB 2.8 MB/s eta 0:00:37\n",
      "   ---------------------------------------- 0.6/99.8 MB 4.6 MB/s eta 0:00:22\n",
      "   ---------------------------------------- 0.9/99.8 MB 5.4 MB/s eta 0:00:19\n",
      "    --------------------------------------- 1.7/99.8 MB 8.5 MB/s eta 0:00:12\n",
      "   - -------------------------------------- 3.5/99.8 MB 13.8 MB/s eta 0:00:07\n",
      "   --- ------------------------------------ 7.9/99.8 MB 26.4 MB/s eta 0:00:04\n",
      "   --- ------------------------------------ 8.7/99.8 MB 29.3 MB/s eta 0:00:04\n",
      "   ----- ---------------------------------- 12.6/99.8 MB 59.8 MB/s eta 0:00:02\n",
      "   ------ --------------------------------- 15.7/99.8 MB 59.5 MB/s eta 0:00:02\n",
      "   -------- ------------------------------- 21.3/99.8 MB 81.8 MB/s eta 0:00:01\n",
      "   --------- ------------------------------ 23.7/99.8 MB 110.0 MB/s eta 0:00:01\n",
      "   --------- ------------------------------ 24.8/99.8 MB 73.1 MB/s eta 0:00:02\n",
      "   ---------- ----------------------------- 25.8/99.8 MB 54.4 MB/s eta 0:00:02\n",
      "   ----------- ---------------------------- 28.9/99.8 MB 50.4 MB/s eta 0:00:02\n",
      "   ------------ --------------------------- 30.5/99.8 MB 43.5 MB/s eta 0:00:02\n",
      "   ------------- -------------------------- 33.8/99.8 MB 40.9 MB/s eta 0:00:02\n",
      "   --------------- ------------------------ 37.8/99.8 MB 59.5 MB/s eta 0:00:02\n",
      "   ----------------- ---------------------- 43.5/99.8 MB 81.8 MB/s eta 0:00:01\n",
      "   ------------------ --------------------- 47.2/99.8 MB 93.0 MB/s eta 0:00:01\n",
      "   -------------------- ------------------- 51.4/99.8 MB 81.8 MB/s eta 0:00:01\n",
      "   --------------------- ------------------ 54.2/99.8 MB 73.1 MB/s eta 0:00:01\n",
      "   ----------------------- ---------------- 58.0/99.8 MB 93.0 MB/s eta 0:00:01\n",
      "   ------------------------ --------------- 61.9/99.8 MB 81.8 MB/s eta 0:00:01\n",
      "   -------------------------- ------------- 66.0/99.8 MB 81.8 MB/s eta 0:00:01\n",
      "   --------------------------- ------------ 69.4/99.8 MB 81.8 MB/s eta 0:00:01\n",
      "   ----------------------------- ---------- 72.7/99.8 MB 81.8 MB/s eta 0:00:01\n",
      "   ------------------------------ --------- 76.6/99.8 MB 93.9 MB/s eta 0:00:01\n",
      "   -------------------------------- ------- 80.8/99.8 MB 81.8 MB/s eta 0:00:01\n",
      "   --------------------------------- ------ 84.3/99.8 MB 93.0 MB/s eta 0:00:01\n",
      "   ----------------------------------- ---- 87.6/99.8 MB 81.8 MB/s eta 0:00:01\n",
      "   ------------------------------------ --- 90.2/99.8 MB 72.6 MB/s eta 0:00:01\n",
      "   -------------------------------------- - 95.4/99.8 MB 93.9 MB/s eta 0:00:01\n",
      "   ---------------------------------------  99.7/99.8 MB 81.8 MB/s eta 0:00:01\n",
      "   ---------------------------------------  99.7/99.8 MB 81.8 MB/s eta 0:00:01\n",
      "   ---------------------------------------  99.7/99.8 MB 81.8 MB/s eta 0:00:01\n",
      "   ---------------------------------------  99.7/99.8 MB 81.8 MB/s eta 0:00:01\n",
      "   ---------------------------------------  99.7/99.8 MB 81.8 MB/s eta 0:00:01\n",
      "   ---------------------------------------  99.7/99.8 MB 81.8 MB/s eta 0:00:01\n",
      "   ---------------------------------------- 99.8/99.8 MB 27.3 MB/s eta 0:00:00\n",
      "Installing collected packages: xgboost\n",
      "Successfully installed xgboost-2.0.3\n",
      "Note: you may need to restart the kernel to use updated packages.\n"
     ]
    },
    {
     "name": "stderr",
     "output_type": "stream",
     "text": [
      "\n",
      "[notice] A new release of pip is available: 23.3.1 -> 23.3.2\n",
      "[notice] To update, run: python.exe -m pip install --upgrade pip\n"
     ]
    }
   ],
   "source": [
    "pip install xgboost"
   ]
  },
  {
   "cell_type": "code",
   "execution_count": 29,
   "metadata": {},
   "outputs": [],
   "source": [
    "from xgboost import XGBClassifier"
   ]
  },
  {
   "cell_type": "code",
   "execution_count": 30,
   "metadata": {},
   "outputs": [
    {
     "name": "stdout",
     "output_type": "stream",
     "text": [
      "0.9558403027491312 0.8782000074035686\n"
     ]
    }
   ],
   "source": [
    "xgb = XGBClassifier(tree_method = 'hist', random_state=42)\n",
    "scores = cross_validate(xgb, train_input, train_target, return_train_score=True, n_jobs=-1)\n",
    "print(np.mean(scores['train_score']), np.mean(scores['test_score']))"
   ]
  },
  {
   "cell_type": "code",
   "execution_count": 31,
   "metadata": {},
   "outputs": [],
   "source": [
    "from lightgbm import LGBMClassifier"
   ]
  },
  {
   "cell_type": "code",
   "execution_count": 32,
   "metadata": {},
   "outputs": [
    {
     "name": "stdout",
     "output_type": "stream",
     "text": [
      "0.935828414851749 0.8801251203079884\n"
     ]
    }
   ],
   "source": [
    "lgb = LGBMClassifier(random_state=42)\n",
    "scores = cross_validate(lgb, train_input, train_target, return_train_score=True, n_jobs=-1)\n",
    "print(np.mean(scores['train_score']), np.mean(scores['test_score']))"
   ]
  },
  {
   "cell_type": "markdown",
   "metadata": {},
   "source": [
    "# 앙상블 보고서\n",
    "- 앙상블 학습은 정형 데이터에서 가장 뛰어난 성능을 내는 머신러닝 알고리즘 중 하나.\n",
    "\n",
    "## 사이킷런\n",
    "- 랜덤 포레스트: 부트스트랩 샘플 사용. 대표 앙상블 학습 알고리즘.\n",
    "- 엑스트라 트리: 결정 트리의 노드를 랜덤하게 분할함\n",
    "- 그레이디언트 부스팅: 이전 트리의 손실을 보완하는 식으로 얕은 결정트리를 연속하여 추가.\n",
    "- 히스토그램 기반 그레이디언트 부스팅: 훈련 데이터를 256개 정수 구간으로 나누어 빠르고 높은 성능을 냄.\n",
    "## 그외 라이브러리\n",
    "- XGBoost\n",
    "- LightGBM"
   ]
  },
  {
   "cell_type": "code",
   "execution_count": null,
   "metadata": {},
   "outputs": [],
   "source": []
  }
 ],
 "metadata": {
  "kernelspec": {
   "display_name": "base",
   "language": "python",
   "name": "python3"
  },
  "language_info": {
   "codemirror_mode": {
    "name": "ipython",
    "version": 3
   },
   "file_extension": ".py",
   "mimetype": "text/x-python",
   "name": "python",
   "nbconvert_exporter": "python",
   "pygments_lexer": "ipython3",
   "version": "3.11.4"
  }
 },
 "nbformat": 4,
 "nbformat_minor": 2
}
